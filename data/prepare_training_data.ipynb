{
 "cells": [
  {
   "cell_type": "code",
   "execution_count": 4,
   "id": "9e26310a-8f18-4cf9-98be-52c6b915c128",
   "metadata": {},
   "outputs": [],
   "source": [
    "# This is to remove test data from windowed data for training\n",
    "import os\n",
    "training_years = ['2020', '2021']\n",
    "for window_data in os.listdir():\n",
    "    if 'OBSEA_' not in window_data:\n",
    "        continue\n",
    "    \n",
    "    for fname in os.listdir(window_data + '/OBSEA'):\n",
    "        if '_label' not in fname:\n",
    "            continue\n",
    "        \n",
    "        year = fname[:4]\n",
    "        if year not in training_years:\n",
    "            os.remove(window_data + '/OBSEA/' + fname)\n",
    "            fname = fname.replace('_label', '')\n",
    "            os.remove(window_data + '/OBSEA/' + fname)"
   ]
  },
  {
   "cell_type": "code",
   "execution_count": 5,
   "id": "3c69a965-7555-4e3d-a9a2-4d4edb678dc8",
   "metadata": {},
   "outputs": [],
   "source": [
    "# prepare train_val_split"
   ]
  },
  {
   "cell_type": "code",
   "execution_count": null,
   "id": "868ac3d2-d3d1-4c6b-a5c5-6b49889aae70",
   "metadata": {},
   "outputs": [],
   "source": []
  }
 ],
 "metadata": {
  "kernelspec": {
   "display_name": "Python 3 (ipykernel)",
   "language": "python",
   "name": "python3"
  },
  "language_info": {
   "codemirror_mode": {
    "name": "ipython",
    "version": 3
   },
   "file_extension": ".py",
   "mimetype": "text/x-python",
   "name": "python",
   "nbconvert_exporter": "python",
   "pygments_lexer": "ipython3",
   "version": "3.8.10"
  }
 },
 "n