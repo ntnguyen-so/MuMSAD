{
 "cells": [
  {
   "cell_type": "code",
   "execution_count": 1,
   "id": "f3d33ae2-f0a8-4b9a-8ba8-ada8b32598a7",
   "metadata": {},
   "outputs": [],
   "source": [
    "import os\n",
    "import pandas as pd\n",
    "import numpy as np"
   ]
  },
  {
   "cell_type": "code",
   "execution_count": 2,
   "id": "90027d51-eac8-4098-9f43-7f49d35ceb56",
   "metadata": {},
   "outputs": [],
   "source": [
    "detector_names = [\n",
    "    'AutoEncoder (AE)',\n",
    "    'DenoisingAutoEncoder (DAE)',     \n",
    "    #'DeepAnT', \n",
    "    #'Random Black Forest (RR)', \n",
    "    'PCC', \n",
    "    'HBOS', \n",
    "    #'Torsk', \n",
    "    #'EncDec-AD', \n",
    "    #'Hybrid KNN',\n",
    "    'CBLOF', \n",
    "    'COPOD', \n",
    "    'RobustPCA', \n",
    "    'LOF'\n",
    "]"
   ]
  },
  {
   "cell_type": "code",
   "execution_count": 4,
   "id": "eaddc017-2103-42d7-9984-8b94a9a02cba",
   "metadata": {},
   "outputs": [],
   "source": [
    "# get time series executed by all detector_names\n",
    "from collections import defaultdict\n",
    "scores_per_detector = defaultdict(list)\n",
    "import shutil\n",
    "path_to_scores = './scores/OBSEA/'\n",
    "for detector in os.listdir(path_to_scores):\n",
    "    if detector not in detector_names:\n",
    "        shutil.rmtree(path_to_scores + detector)\n",
    "    else:\n",
    "        scores_per_detector[detector] = os.listdir(path_to_scores + detector + '/score')\n",
    "\n",
    "timeseries_executed_by_all = set.intersection(*(set(lst) for lst in scores_per_detector.values()))\n",
    "timeseries_executed_by_all = list(timeseries_executed_by_all)\n",
    "timeseries_executed_by_all = sorted(timeseries_executed_by_all)"
   ]
  },
  {
   "cell_type": "code",
   "execution_count": 5,
   "id": "85a9687d-688c-4c5e-ac01-fd97c99c2178",
   "metadata": {},
   "outputs": [],
   "source": [
    "# delete scores not executed by at least one detector\n",
    "for detector in os.listdir(path_to_scores):\n",
    "    if detector not in detector_names:\n",
    "        continue\n",
    "    for fname in os.listdir(path_to_scores + detector + '/score'):\n",
    "        if fname not in timeseries_executed_by_all:\n",
    "            if '.out' not in fname:\n",
    "                continue\n",
    "            #print('to remove', path_to_scores + detector + '/score/' + fname)\n",
    "            os.remove(path_to_scores + detector + '/score/' + fname)"
   ]
  },
  {
   "cell_type": "code",
   "execution_count": 6,
   "id": "f8b8308b-0301-4c83-aef7-dc8376e231d8",
   "metadata": {},
   "outputs": [],
   "source": [
    "# delete timeseries data not executed by at least one detector\n",
    "path_to_data = './data/OBSEA/'\n",
    "for fname in os.listdir(path_to_data):\n",
    "    if fname not in timeseries_executed_by_all:\n",
    "        if '.out' not in fname:\n",
    "            continue\n",
    "        #print('to remove', path_to_data + fname)\n",
    "        os.remove(path_to_data + fname)"
   ]
  },
  {
   "cell_type": "code",
   "execution_count": 7,
   "id": "93d96289-5914-4fa7-8591-2667584f5cf3",
   "metadata": {},
   "outputs": [],
   "source": [
    "# rescale the scores to 0-1\n",
    "from sklearn.preprocessing import MinMaxScaler\n",
    "for detector in os.listdir(path_to_scores):\n",
    "    if detector not in detector_names:\n",
    "        continue\n",
    "    for fname in os.listdir(path_to_scores + detector + '/score'):\n",
    "        if '.out' not in fname:\n",
    "            continue\n",
    "            \n",
    "        score = np.loadtxt(path_to_scores + detector + '/score/' + fname, delimiter='\\n')\n",
    "        score = np.reshape(score, (-1, 1))\n",
    "        score = np.nan_to_num(score, nan=0.0)\n",
    "        score = MinMaxScaler().fit_transform(score)\n",
    "        np.savetxt(path_to_scores + detector + '/score/' + fname, score, delimiter='\\n', fmt='%f')\n"
   ]
  },
  {
   "cell_type": "code",
   "execution_count": 9,
   "id": "192119ff-79ce-4510-b027-5e4f2023cebe",
   "metadata": {},
   "outputs": [
    {
     "name": "stdout",
     "output_type": "stream",
     "text": [
      "AutoEncoder (AE)\n",
      "CBLOF\n",
      "COPOD\n",
      "DenoisingAutoEncoder (DAE)\n",
      "HBOS\n",
      "LOF\n",
      "PCC\n",
      "RobustPCA\n"
     ]
    }
   ],
   "source": [
    "# remove accuracy of timeseries already deleted\n",
    "import shutil\n",
    "import pandas as pd\n",
    "metric_name = 'PR_AUC'\n",
    "path_to_metrics = './metrics/'\n",
    "index_metric = ['OBSEA/' + x for x in timeseries_executed_by_all]\n",
    "for detector in os.listdir(path_to_metrics):\n",
    "    if detector not in detector_names:\n",
    "        shutil.rmtree(path_to_metrics + detector)\n",
    "    else:\n",
    "        metric = pd.read_csv(path_to_metrics + detector + '/' + metric_name + '.csv')\n",
    "        metric.set_index('Unnamed: 0', inplace=True)\n",
    "        metric = metric.loc[index_metric]\n",
    "        metric.to_csv(path_to_metrics + detector + '/' + metric_name + '.csv')"
   ]
  },
  {
   "cell_type": "code",
   "execution_count": 17,
   "id": "4f3feec7-2caa-48de-bf6d-a3c7aab07f82",
   "metadata": {},
   "outputs": [],
   "source": [
    "metric = pd.read_csv(path_to_metrics + detector + '/' + metric_name + '.csv')\n",
    "metric.set_index('Unnamed: 0', inplace=True)\n",
    "metric = metric.loc[index_metric]\n",
    "metric.to_csv('test.csv')"
   ]
  },
  {
   "cell_type": "code",
   "execution_count": 15,
   "id": "90062bc3-52c6-4300-9722-17efe2cf8ef1",
   "metadata": {},
   "outputs": [
    {
     "data": {
      "text/plain": [
       "Index(['OBSEA/2020-01-01.out', 'OBSEA/2020-01-02.out', 'OBSEA/2020-01-03.out',\n",
       "       'OBSEA/2020-01-04.out', 'OBSEA/2020-01-05.out', 'OBSEA/2020-01-06.out',\n",
       "       'OBSEA/2020-01-07.out', 'OBSEA/2020-01-08.out', 'OBSEA/2020-01-09.out',\n",
       "       'OBSEA/2020-01-10.out',\n",
       "       ...\n",
       "       'OBSEA/2023-10-29.out', 'OBSEA/2023-10-30.out', 'OBSEA/2023-10-31.out',\n",
       "       'OBSEA/2023-11-01.out', 'OBSEA/2023-11-02.out', 'OBSEA/2023-11-03.out',\n",
       "       'OBSEA/2023-11-04.out', 'OBSEA/2023-11-05.out', 'OBSEA/2023-11-06.out',\n",
       "       'OBSEA/2023-11-07.out'],\n",
       "      dtype='object', name='Unnamed: 0', length=1012)"
      ]
     },
     "execution_count": 15,
     "metadata": {},
     "output_type": "execute_result"
    }
   ],
   "source": [
    "metric.index"
   ]
  },
  {
   "cell_type": "code",
   "execution_count": null,
   "id": "c54dc63d-e86f-451f-9873-c06d81836758",
   "metadata": {},
   "outputs": [],
   "source": []
  }
 ],
 "metadata": {
  "kernelspec": {
   "display_name": "Python 3 (ipykernel)",
   "language": "python",
   "name": "python3"
  },
  "language_info": {
   "codemirror_mode": {
    "name": "ipython",
    "version": 3
   },
   "file_extension": ".py",
   "mimetype": "text/x-python",
   "name": "python",
   "nbconvert_exporter": "python",
   "pygments_lexer": "ipython3",
   "version": "3.8.10"
  }
 },
 "nbformat": 4,
 "nbformat_minor": 5
}
